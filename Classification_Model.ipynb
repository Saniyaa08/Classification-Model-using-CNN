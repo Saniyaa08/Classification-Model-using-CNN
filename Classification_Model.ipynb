{
  "nbformat": 4,
  "nbformat_minor": 0,
  "metadata": {
    "colab": {
      "provenance": []
    },
    "kernelspec": {
      "name": "python3",
      "display_name": "Python 3"
    },
    "language_info": {
      "name": "python"
    }
  },
  "cells": [
    {
      "cell_type": "code",
      "execution_count": 1,
      "metadata": {
        "colab": {
          "base_uri": "https://localhost:8080/"
        },
        "id": "4kTgFqCwJdcP",
        "outputId": "a27d1505-68f1-4cec-9133-9714cecd89fb"
      },
      "outputs": [
        {
          "output_type": "stream",
          "name": "stdout",
          "text": [
            "Downloading data from https://www.cs.toronto.edu/~kriz/cifar-10-python.tar.gz\n",
            "170498071/170498071 [==============================] - 2s 0us/step\n",
            "Epoch 1/10\n",
            "1563/1563 [==============================] - 77s 48ms/step - loss: 1.5128 - accuracy: 0.4514 - val_loss: 1.2340 - val_accuracy: 0.5555\n",
            "Epoch 2/10\n",
            "1563/1563 [==============================] - 73s 47ms/step - loss: 1.1574 - accuracy: 0.5906 - val_loss: 1.0782 - val_accuracy: 0.6155\n",
            "Epoch 3/10\n",
            "1563/1563 [==============================] - 74s 47ms/step - loss: 1.0109 - accuracy: 0.6415 - val_loss: 1.0139 - val_accuracy: 0.6503\n",
            "Epoch 4/10\n",
            "1563/1563 [==============================] - 76s 49ms/step - loss: 0.9178 - accuracy: 0.6782 - val_loss: 0.9802 - val_accuracy: 0.6635\n",
            "Epoch 5/10\n",
            "1563/1563 [==============================] - 71s 45ms/step - loss: 0.8391 - accuracy: 0.7045 - val_loss: 0.8892 - val_accuracy: 0.6940\n",
            "Epoch 6/10\n",
            "1563/1563 [==============================] - 77s 50ms/step - loss: 0.7781 - accuracy: 0.7263 - val_loss: 0.8824 - val_accuracy: 0.6994\n",
            "Epoch 7/10\n",
            "1563/1563 [==============================] - 76s 48ms/step - loss: 0.7269 - accuracy: 0.7461 - val_loss: 0.9131 - val_accuracy: 0.6915\n",
            "Epoch 8/10\n",
            "1563/1563 [==============================] - 73s 47ms/step - loss: 0.6801 - accuracy: 0.7617 - val_loss: 0.9085 - val_accuracy: 0.7000\n",
            "Epoch 9/10\n",
            "1563/1563 [==============================] - 75s 48ms/step - loss: 0.6430 - accuracy: 0.7729 - val_loss: 0.8991 - val_accuracy: 0.6956\n",
            "Epoch 10/10\n",
            "1563/1563 [==============================] - 76s 49ms/step - loss: 0.6011 - accuracy: 0.7874 - val_loss: 0.9008 - val_accuracy: 0.7078\n",
            "313/313 [==============================] - 4s 14ms/step - loss: 0.9008 - accuracy: 0.7078\n",
            "Test accuracy: 0.7077999711036682\n"
          ]
        }
      ],
      "source": [
        "# Import necessary libraries\n",
        "import tensorflow as tf\n",
        "from tensorflow.keras import layers, models\n",
        "\n",
        "# Load CIFAR-10 dataset\n",
        "(x_train, y_train), (x_test, y_test) = tf.keras.datasets.cifar10.load_data()\n",
        "\n",
        "# Preprocess data\n",
        "x_train, x_test = x_train / 255.0, x_test / 255.0\n",
        "\n",
        "# Build CNN model\n",
        "model = models.Sequential([\n",
        "    layers.Conv2D(32, (3, 3), activation='relu', input_shape=(32, 32, 3)),\n",
        "    layers.MaxPooling2D((2, 2)),\n",
        "    layers.Conv2D(64, (3, 3), activation='relu'),\n",
        "    layers.MaxPooling2D((2, 2)),\n",
        "    layers.Conv2D(64, (3, 3), activation='relu'),\n",
        "    layers.Flatten(),\n",
        "    layers.Dense(64, activation='relu'),\n",
        "    layers.Dense(10, activation='softmax')\n",
        "])\n",
        "\n",
        "# Compile model\n",
        "model.compile(optimizer='adam',\n",
        "              loss='sparse_categorical_crossentropy',\n",
        "              metrics=['accuracy'])\n",
        "\n",
        "# Train model\n",
        "model.fit(x_train, y_train, epochs=10, validation_data=(x_test, y_test))\n",
        "\n",
        "# Evaluate model\n",
        "test_loss, test_acc = model.evaluate(x_test, y_test)\n",
        "print('Test accuracy:', test_acc)"
      ]
    },
    {
      "cell_type": "code",
      "source": [
        "# Make predictions on a single image\n",
        "import numpy as np\n",
        "\n",
        "# Select a single image from the test dataset\n",
        "image_index = 5\n",
        "test_image = np.expand_dims(x_test[image_index], axis=0)\n",
        "\n",
        "# Make prediction\n",
        "prediction = model.predict(test_image)\n",
        "predicted_class = np.argmax(prediction)\n",
        "\n",
        "# Display the predicted class\n",
        "print('Predicted class:', predicted_class)"
      ],
      "metadata": {
        "colab": {
          "base_uri": "https://localhost:8080/"
        },
        "id": "ElTTI2CMM9eA",
        "outputId": "481fb8e0-5738-4343-d02b-75afc8109a05"
      },
      "execution_count": 19,
      "outputs": [
        {
          "output_type": "stream",
          "name": "stdout",
          "text": [
            "1/1 [==============================] - 0s 22ms/step\n",
            "Predicted class: 6\n"
          ]
        }
      ]
    },
    {
      "cell_type": "code",
      "source": [
        "import matplotlib.pyplot as plt\n",
        "\n",
        "# Define class labels\n",
        "class_labels = ['airplane', 'automobile', 'bird', 'cat', 'deer', 'dog', 'frog', 'horse', 'ship', 'truck']\n",
        "\n",
        "# Function to display image and predicted class\n",
        "def visualize_result(image, true_label, predicted_label):\n",
        "    plt.imshow(image)\n",
        "    plt.axis('off')\n",
        "    plt.title(f\"True Label: {class_labels[true_label[0]]}, Predicted Label: {class_labels[predicted_label]}\")\n",
        "    plt.show()\n",
        "\n",
        "# Select a single image from the test dataset\n",
        "image_index = 8\n",
        "test_image = x_test[image_index]\n",
        "true_label = y_test[image_index]\n",
        "\n",
        "# Make prediction\n",
        "prediction = model.predict(np.expand_dims(test_image, axis=0))\n",
        "predicted_label = np.argmax(prediction)\n",
        "\n",
        "# Display the image and predicted class\n",
        "visualize_result(test_image, true_label, predicted_label)"
      ],
      "metadata": {
        "colab": {
          "base_uri": "https://localhost:8080/",
          "height": 445
        },
        "id": "9dmK8f-8NNml",
        "outputId": "f24ff0c7-8a4b-4757-a765-b200b19b9113"
      },
      "execution_count": 35,
      "outputs": [
        {
          "output_type": "stream",
          "name": "stdout",
          "text": [
            "1/1 [==============================] - 0s 39ms/step\n"
          ]
        },
        {
          "output_type": "display_data",
          "data": {
            "text/plain": [
              "<Figure size 640x480 with 1 Axes>"
            ],
            "image/png": "[encoded data removed]"
          },
          "metadata": {}
        }
      ]
    },
    {
      "cell_type": "code",
      "source": [
        "import cv2\n",
        "\n",
        "# Function to enhance image clarity\n",
        "def enhance_image(image):\n",
        "    \"\"\"\n",
        "    Enhances the clarity of an image using Gaussian blur followed by unsharp masking.\n",
        "\n",
        "    Args:\n",
        "    image: Input image to be enhanced.\n",
        "\n",
        "    Returns:\n",
        "    Enhanced image.\n",
        "    \"\"\"\n",
        "    # Apply Gaussian blur to reduce noise and blur\n",
        "    blurred_image = cv2.GaussianBlur(image, (5, 5), 0)\n",
        "    # Apply unsharp masking to sharpen the image\n",
        "    sharpened_image = cv2.addWeighted(image, 1.5, blurred_image, -0.5, 0)\n",
        "    return sharpened_image\n",
        "\n",
        "# Function to visualize image with labels\n",
        "def visualize_result(image, true_label, predicted_label):\n",
        "    \"\"\"\n",
        "    Displays an image along with its true and predicted labels.\n",
        "\n",
        "    Args:\n",
        "    image: Image to be displayed.\n",
        "    true_label: True label of the image.\n",
        "    predicted_label: Predicted label of the image.\n",
        "    \"\"\"\n",
        "    # Define class labels\n",
        "    class_labels = ['airplane', 'automobile', 'bird', 'cat', 'deer', 'dog', 'frog', 'horse', 'ship', 'truck']\n",
        "\n",
        "    # Display image with labels\n",
        "    plt.imshow(image)\n",
        "    plt.axis('off')\n",
        "    plt.title(f\"True Label: {class_labels[true_label[0]]}, Predicted Label: {class_labels[predicted_label]}\")\n",
        "    plt.show()\n",
        "\n",
        "# Select a single image from the test dataset\n",
        "image_index = 8\n",
        "test_image = x_test[image_index]\n",
        "\n",
        "# Enhance the image\n",
        "enhanced_image = enhance_image(test_image)\n",
        "\n",
        "# Display the enhanced image\n",
        "visualize_result(enhanced_image, true_label, predicted_label)"
      ],
      "metadata": {
        "colab": {
          "base_uri": "https://localhost:8080/",
          "height": 445
        },
        "id": "9S-0Vu35TJYs",
        "outputId": "9b75c62e-6c76-4698-e109-b15bd4dfe9d2"
      },
      "execution_count": 38,
      "outputs": [
        {
          "output_type": "stream",
          "name": "stderr",
          "text": [
            "WARNING:matplotlib.image:Clipping input data to the valid range for imshow with RGB data ([0..1] for floats or [0..255] for integers).\n"
          ]
        },
        {
          "output_type": "display_data",
          "data": {
            "text/plain": [
              "<Figure size 640x480 with 1 Axes>"
            ],
            "image/png": "[encoded data removed]"
          },
          "metadata": {}
        }
      ]
    }
  ]
}